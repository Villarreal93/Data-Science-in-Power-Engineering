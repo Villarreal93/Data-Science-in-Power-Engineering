{
 "cells": [
  {
   "cell_type": "code",
   "execution_count": 1,
   "id": "baking-puppy",
   "metadata": {},
   "outputs": [],
   "source": [
    "using Pkg"
   ]
  },
  {
   "cell_type": "code",
   "execution_count": 2,
   "id": "compressed-identity",
   "metadata": {},
   "outputs": [],
   "source": [
    "Pkg.add(\"JuMP\")"
   ]
  },
  {
   "cell_type": "code",
   "execution_count": 3,
   "id": "judicial-novel",
   "metadata": {},
   "outputs": [],
   "source": [
    "Pkg.add(\"Ipopt\")"
   ]
  },
  {
   "cell_type": "code",
   "execution_count": 4,
   "id": "steady-burke",
   "metadata": {},
   "outputs": [],
   "source": [
    "Pkg.resolve()"
   ]
  },
  {
   "cell_type": "code",
   "execution_count": 5,
   "id": "departmental-margin",
   "metadata": {},
   "outputs": [],
   "source": [
    "using JuMP\n",
    "using Ipopt"
   ]
  },
  {
   "cell_type": "code",
   "execution_count": 6,
   "id": "higher-affiliate",
   "metadata": {},
   "outputs": [
    {
     "data": {
      "text/plain": [
       "A JuMP Model\n",
       "Feasibility problem with:\n",
       "Variables: 0\n",
       "Model mode: AUTOMATIC\n",
       "CachingOptimizer state: EMPTY_OPTIMIZER\n",
       "Solver name: Ipopt"
      ]
     },
     "execution_count": 6,
     "metadata": {},
     "output_type": "execute_result"
    }
   ],
   "source": [
    "mdl = Model(Ipopt.Optimizer)"
   ]
  },
  {
   "cell_type": "code",
   "execution_count": 11,
   "id": "confirmed-document",
   "metadata": {},
   "outputs": [
    {
     "data": {
      "text/latex": [
       "$$ 20 x1 + 3 x2 + 0.2 x3 + 5 $$"
      ],
      "text/plain": [
       "20 x1 + 3 x2 + 0.2 x3 + 5"
      ]
     },
     "execution_count": 11,
     "metadata": {},
     "output_type": "execute_result"
    }
   ],
   "source": [
    "mdl = Model(Ipopt.Optimizer)\n",
    "\n",
    "@variable(mdl, x1>=0)\n",
    "@variable(mdl, x2>=0)\n",
    "@variable(mdl, x3>=1)\n",
    "\n",
    "@objective(mdl, Min, x1*20 + x2*3 + 5 + x3/5)"
   ]
  },
  {
   "cell_type": "code",
   "execution_count": 12,
   "id": "stupid-environment",
   "metadata": {},
   "outputs": [
    {
     "data": {
      "text/latex": [
       "$$ \\begin{aligned}\n",
       "\\min\\quad & 20 x1 + 3 x2 + 0.2 x3 + 5\\\\\n",
       "\\text{Subject to} \\quad & x1 \\geq 0.0\\\\\n",
       " & x2 \\geq 0.0\\\\\n",
       " & x3 \\geq 1.0\\\\\n",
       "\\end{aligned} $$"
      ]
     },
     "metadata": {},
     "output_type": "display_data"
    }
   ],
   "source": [
    "print(mdl)"
   ]
  },
  {
   "cell_type": "code",
   "execution_count": 13,
   "id": "smaller-return",
   "metadata": {
    "scrolled": true
   },
   "outputs": [
    {
     "name": "stdout",
     "output_type": "stream",
     "text": [
      "This is Ipopt version 3.13.4, running with linear solver mumps.\n",
      "NOTE: Other linear solvers might be more efficient (see Ipopt documentation).\n",
      "\n",
      "Number of nonzeros in equality constraint Jacobian...:        0\n",
      "Number of nonzeros in inequality constraint Jacobian.:        0\n",
      "Number of nonzeros in Lagrangian Hessian.............:        0\n",
      "\n",
      "Total number of variables............................:        3\n",
      "                     variables with only lower bounds:        3\n",
      "                variables with lower and upper bounds:        0\n",
      "                     variables with only upper bounds:        0\n",
      "Total number of equality constraints.................:        0\n",
      "Total number of inequality constraints...............:        0\n",
      "        inequality constraints with only lower bounds:        0\n",
      "   inequality constraints with lower and upper bounds:        0\n",
      "        inequality constraints with only upper bounds:        0\n",
      "\n",
      "iter    objective    inf_pr   inf_du lg(mu)  ||d||  lg(rg) alpha_du alpha_pr  ls\n",
      "   0  5.4319998e+00 0.00e+00 1.90e+01  -1.0 0.00e+00    -  0.00e+00 0.00e+00   0\n",
      "   1  5.3443650e+00 0.00e+00 1.00e-06  -1.0 1.00e-01    -  1.00e+00 4.95e-02f  2\n",
      "   2  5.2084851e+00 0.00e+00 2.83e-08  -2.5 1.25e-02    -  1.00e+00 1.00e+00f  1\n",
      "   3  5.2004510e+00 0.00e+00 1.50e-09  -3.8 1.34e-02    -  1.00e+00 1.00e+00f  1\n",
      "   4  5.2000053e+00 0.00e+00 1.84e-11  -5.7 7.43e-04    -  1.00e+00 1.00e+00f  1\n",
      "   5  5.1999998e+00 0.00e+00 2.51e-14  -8.6 9.21e-06    -  1.00e+00 1.00e+00f  1\n",
      "\n",
      "Number of Iterations....: 5\n",
      "\n",
      "                                   (scaled)                 (unscaled)\n",
      "Objective...............:   5.1999997755177105e+00    5.1999997755177105e+00\n",
      "Dual infeasibility......:   2.5063284780912909e-14    2.5063284780912909e-14\n",
      "Constraint violation....:   0.0000000000000000e+00    0.0000000000000000e+00\n",
      "Complementarity.........:   2.5059037289668440e-09    2.5059037289668440e-09\n",
      "Overall NLP error.......:   2.5059037289668440e-09    2.5059037289668440e-09\n",
      "\n",
      "\n",
      "Number of objective function evaluations             = 11\n",
      "Number of objective gradient evaluations             = 6\n",
      "Number of equality constraint evaluations            = 0\n",
      "Number of inequality constraint evaluations          = 0\n",
      "Number of equality constraint Jacobian evaluations   = 0\n",
      "Number of inequality constraint Jacobian evaluations = 0\n",
      "Number of Lagrangian Hessian evaluations             = 1\n",
      "Total CPU secs in IPOPT (w/o function evaluations)   =      0.004\n",
      "Total CPU secs in NLP function evaluations           =      0.000\n",
      "\n",
      "EXIT: Optimal Solution Found.\n"
     ]
    }
   ],
   "source": [
    "optimize!(mdl)"
   ]
  },
  {
   "cell_type": "code",
   "execution_count": 14,
   "id": "inside-rental",
   "metadata": {},
   "outputs": [
    {
     "data": {
      "text/plain": [
       "5.1999997755177105"
      ]
     },
     "execution_count": 14,
     "metadata": {},
     "output_type": "execute_result"
    }
   ],
   "source": [
    "objective_value(mdl)"
   ]
  },
  {
   "cell_type": "code",
   "execution_count": 18,
   "id": "japanese-liver",
   "metadata": {},
   "outputs": [
    {
     "data": {
      "text/plain": [
       "0.0"
      ]
     },
     "execution_count": 18,
     "metadata": {},
     "output_type": "execute_result"
    }
   ],
   "source": [
    "value(x1)"
   ]
  },
  {
   "cell_type": "code",
   "execution_count": 19,
   "id": "endangered-freedom",
   "metadata": {},
   "outputs": [
    {
     "data": {
      "text/plain": [
       "0.0"
      ]
     },
     "execution_count": 19,
     "metadata": {},
     "output_type": "execute_result"
    }
   ],
   "source": [
    "value(x2)"
   ]
  },
  {
   "cell_type": "code",
   "execution_count": 20,
   "id": "charming-montreal",
   "metadata": {},
   "outputs": [
    {
     "data": {
      "text/plain": [
       "1.0000000025295186"
      ]
     },
     "execution_count": 20,
     "metadata": {},
     "output_type": "execute_result"
    }
   ],
   "source": [
    "value(x3)"
   ]
  },
  {
   "cell_type": "code",
   "execution_count": 23,
   "id": "fifteen-depth",
   "metadata": {},
   "outputs": [
    {
     "data": {
      "text/latex": [
       "$$ x2^2 + x1 \\geq 3.0 $$"
      ],
      "text/plain": [
       "x2² + x1 >= 3.0"
      ]
     },
     "execution_count": 23,
     "metadata": {},
     "output_type": "execute_result"
    }
   ],
   "source": [
    "mdl = Model(Ipopt.Optimizer)\n",
    "\n",
    "@variable(mdl, x1>=0)\n",
    "@variable(mdl, x2>=0)\n",
    "@variable(mdl, x3>=1)\n",
    "\n",
    "a = x1*20 + x2*3 + 5 + x3/5\n",
    "\n",
    "@objective(mdl, Min, a)\n",
    "\n",
    "@constraint(mdl, x1+x2*x2+2>=5)"
   ]
  },
  {
   "cell_type": "code",
   "execution_count": 33,
   "id": "worldwide-mount",
   "metadata": {},
   "outputs": [],
   "source": [
    "mdl2 = Model(Ipopt.Optimizer)\n",
    "\n",
    "dmd = [200, 300, 400, 400, 440, 350]\n",
    "\n",
    "@variable(mdl2, 200>=x1[1:6]>=70)\n",
    "@variable(mdl2, 250>=x2[1:6]>=80)\n",
    "\n",
    "@objective(mdl2, Min, sum(140*x1[i] + 0.8*x2[i]*x2[i] + 0.5*x2[i] for i in 1:6) )\n",
    "\n",
    "a=x1+x2\n",
    "\n",
    "dmd_cst = [] #Array{Any,1}(UndefInitializer(), 6)\n",
    "\n",
    "for i in 1:6\n",
    "    push!(dmd_cst, @constraint(mdl2, a[i] == dmd[i]))\n",
    "end"
   ]
  },
  {
   "cell_type": "code",
   "execution_count": 34,
   "id": "missing-peace",
   "metadata": {},
   "outputs": [
    {
     "data": {
      "text/latex": [
       "$$ \\begin{aligned}\n",
       "\\min\\quad & 0.8 x2_{1}^2 + 0.8 x2_{2}^2 + 0.8 x2_{3}^2 + 0.8 x2_{4}^2 + 0.8 x2_{5}^2 + 0.8 x2_{6}^2 + 140 x1_{1} + 0.5 x2_{1} + 140 x1_{2} + 0.5 x2_{2} + 140 x1_{3} + 0.5 x2_{3} + 140 x1_{4} + 0.5 x2_{4} + 140 x1_{5} + 0.5 x2_{5} + 140 x1_{6} + 0.5 x2_{6}\\\\\n",
       "\\text{Subject to} \\quad & x1_{1} + x2_{1} = 200.0\\\\\n",
       " & x1_{2} + x2_{2} = 300.0\\\\\n",
       " & x1_{3} + x2_{3} = 400.0\\\\\n",
       " & x1_{4} + x2_{4} = 400.0\\\\\n",
       " & x1_{5} + x2_{5} = 440.0\\\\\n",
       " & x1_{6} + x2_{6} = 350.0\\\\\n",
       " & x1_{1} \\geq 70.0\\\\\n",
       " & x1_{2} \\geq 70.0\\\\\n",
       " & x1_{3} \\geq 70.0\\\\\n",
       " & x1_{4} \\geq 70.0\\\\\n",
       " & x1_{5} \\geq 70.0\\\\\n",
       " & x1_{6} \\geq 70.0\\\\\n",
       " & x2_{1} \\geq 80.0\\\\\n",
       " & x2_{2} \\geq 80.0\\\\\n",
       " & x2_{3} \\geq 80.0\\\\\n",
       " & x2_{4} \\geq 80.0\\\\\n",
       " & x2_{5} \\geq 80.0\\\\\n",
       " & x2_{6} \\geq 80.0\\\\\n",
       " & x1_{1} \\leq 200.0\\\\\n",
       " & x1_{2} \\leq 200.0\\\\\n",
       " & x1_{3} \\leq 200.0\\\\\n",
       " & x1_{4} \\leq 200.0\\\\\n",
       " & x1_{5} \\leq 200.0\\\\\n",
       " & x1_{6} \\leq 200.0\\\\\n",
       " & x2_{1} \\leq 250.0\\\\\n",
       " & x2_{2} \\leq 250.0\\\\\n",
       " & x2_{3} \\leq 250.0\\\\\n",
       " & x2_{4} \\leq 250.0\\\\\n",
       " & x2_{5} \\leq 250.0\\\\\n",
       " & x2_{6} \\leq 250.0\\\\\n",
       "\\end{aligned} $$"
      ]
     },
     "metadata": {},
     "output_type": "display_data"
    }
   ],
   "source": [
    "print(mdl2)"
   ]
  },
  {
   "cell_type": "code",
   "execution_count": 35,
   "id": "negative-terrorist",
   "metadata": {},
   "outputs": [
    {
     "name": "stdout",
     "output_type": "stream",
     "text": [
      "This is Ipopt version 3.13.4, running with linear solver mumps.\n",
      "NOTE: Other linear solvers might be more efficient (see Ipopt documentation).\n",
      "\n",
      "Number of nonzeros in equality constraint Jacobian...:       12\n",
      "Number of nonzeros in inequality constraint Jacobian.:        0\n",
      "Number of nonzeros in Lagrangian Hessian.............:        6\n",
      "\n",
      "Total number of variables............................:       12\n",
      "                     variables with only lower bounds:        0\n",
      "                variables with lower and upper bounds:       12\n",
      "                     variables with only upper bounds:        0\n",
      "Total number of equality constraints.................:        6\n",
      "Total number of inequality constraints...............:        0\n",
      "        inequality constraints with only lower bounds:        0\n",
      "   inequality constraints with lower and upper bounds:        0\n",
      "        inequality constraints with only upper bounds:        0\n",
      "\n",
      "iter    objective    inf_pr   inf_du lg(mu)  ||d||  lg(rg) alpha_du alpha_pr  ls\n",
      "   0  9.0967871e+04 2.89e+02 3.65e+00  -1.0 0.00e+00    -  0.00e+00 0.00e+00   0\n",
      "   1  2.2248099e+05 8.17e+01 1.82e+02  -1.0 1.79e+02    -  3.87e-03 7.17e-01h  1\n",
      "   2  2.2289276e+05 8.05e+01 1.51e+02  -1.0 1.25e+02    -  4.62e-01 1.40e-02h  1\n",
      "   3  2.2977682e+05 6.79e+01 1.21e+02  -1.0 1.10e+02    -  4.93e-01 1.57e-01h  1\n",
      "   4  2.3535217e+05 6.11e+01 8.87e+01  -1.0 7.92e+01    -  5.17e-01 1.00e-01h  1\n",
      "   5  2.5029135e+05 4.42e+01 5.74e+01  -1.0 6.11e+01    -  7.06e-01 2.76e-01h  1\n",
      "   6  2.6100587e+05 3.35e+01 4.09e+01  -1.0 4.42e+01    -  5.69e-01 2.42e-01h  1\n",
      "   7  2.8478302e+05 1.16e+01 1.42e+01  -1.0 3.35e+01    -  1.00e+00 6.54e-01h  1\n",
      "   8  2.8756186e+05 9.19e+00 1.13e+01  -1.0 1.16e+01    -  7.52e-01 2.08e-01h  1\n",
      "   9  2.9844440e+05 0.00e+00 5.68e-14  -1.0 9.19e+00    -  1.00e+00 1.00e+00h  1\n",
      "iter    objective    inf_pr   inf_du lg(mu)  ||d||  lg(rg) alpha_du alpha_pr  ls\n",
      "  10  2.9844381e+05 0.00e+00 1.93e-14  -1.7 1.01e-02    -  1.00e+00 1.00e+00f  1\n",
      "  11  2.9844367e+05 0.00e+00 3.10e-14  -3.8 2.12e-03    -  1.00e+00 1.00e+00f  1\n",
      "  12  2.9844367e+05 0.00e+00 2.44e-14  -5.7 1.65e-05    -  1.00e+00 1.00e+00f  1\n",
      "  13  2.9844367e+05 0.00e+00 2.84e-14  -8.6 1.95e-07    -  1.00e+00 1.00e+00f  1\n",
      "\n",
      "Number of Iterations....: 13\n",
      "\n",
      "                                   (scaled)                 (unscaled)\n",
      "Objective...............:   2.1317405030144117e+05    2.9844367042201763e+05\n",
      "Dual infeasibility......:   2.8421709430404007e-14    3.9790393202565608e-14\n",
      "Constraint violation....:   0.0000000000000000e+00    0.0000000000000000e+00\n",
      "Complementarity.........:   2.5066424798010823e-09    3.5092994717215152e-09\n",
      "Overall NLP error.......:   2.5066424798010823e-09    3.5092994717215152e-09\n",
      "\n",
      "\n",
      "Number of objective function evaluations             = 14\n",
      "Number of objective gradient evaluations             = 14\n",
      "Number of equality constraint evaluations            = 14\n",
      "Number of inequality constraint evaluations          = 0\n",
      "Number of equality constraint Jacobian evaluations   = 1\n",
      "Number of inequality constraint Jacobian evaluations = 0\n",
      "Number of Lagrangian Hessian evaluations             = 1\n",
      "Total CPU secs in IPOPT (w/o function evaluations)   =      0.013\n",
      "Total CPU secs in NLP function evaluations           =      0.000\n",
      "\n",
      "EXIT: Optimal Solution Found.\n"
     ]
    }
   ],
   "source": [
    "optimize!(mdl2)"
   ]
  },
  {
   "cell_type": "code",
   "execution_count": 31,
   "id": "arabic-associate",
   "metadata": {},
   "outputs": [
    {
     "data": {
      "text/plain": [
       "6-element Vector{Float64}:\n",
       " 112.81249999973444\n",
       " 200.0\n",
       " 200.0\n",
       " 200.0\n",
       " 200.0\n",
       " 200.0"
      ]
     },
     "execution_count": 31,
     "metadata": {},
     "output_type": "execute_result"
    }
   ],
   "source": [
    "value.(x1)"
   ]
  },
  {
   "cell_type": "code",
   "execution_count": 32,
   "id": "criminal-ridge",
   "metadata": {},
   "outputs": [
    {
     "data": {
      "text/plain": [
       "6-element Vector{Float64}:\n",
       "  87.18750000026554\n",
       "  99.99999800017115\n",
       " 199.99999800001947\n",
       " 199.99999800001947\n",
       " 239.9999980000144\n",
       " 149.9999980000349"
      ]
     },
     "execution_count": 32,
     "metadata": {},
     "output_type": "execute_result"
    }
   ],
   "source": [
    "value.(x2)"
   ]
  },
  {
   "cell_type": "code",
   "execution_count": 36,
   "id": "ongoing-today",
   "metadata": {},
   "outputs": [
    {
     "data": {
      "text/plain": [
       "6-element Vector{Any}:\n",
       " x1[1] + x2[1] == 200.0\n",
       " x1[2] + x2[2] == 300.0\n",
       " x1[3] + x2[3] == 400.0\n",
       " x1[4] + x2[4] == 400.0\n",
       " x1[5] + x2[5] == 440.0\n",
       " x1[6] + x2[6] == 350.0"
      ]
     },
     "execution_count": 36,
     "metadata": {},
     "output_type": "execute_result"
    }
   ],
   "source": [
    "dmd_cst"
   ]
  },
  {
   "cell_type": "code",
   "execution_count": 37,
   "id": "reasonable-simple",
   "metadata": {},
   "outputs": [
    {
     "data": {
      "text/latex": [
       "$$ x1_{2} + x2_{2} = 300.0 $$"
      ],
      "text/plain": [
       "x1[2] + x2[2] == 300.0"
      ]
     },
     "execution_count": 37,
     "metadata": {},
     "output_type": "execute_result"
    }
   ],
   "source": [
    "dmd_cst[2]"
   ]
  },
  {
   "cell_type": "code",
   "execution_count": 38,
   "id": "anticipated-difference",
   "metadata": {},
   "outputs": [
    {
     "data": {
      "text/plain": [
       "300.0"
      ]
     },
     "execution_count": 38,
     "metadata": {},
     "output_type": "execute_result"
    }
   ],
   "source": [
    "value(dmd_cst[2])"
   ]
  },
  {
   "cell_type": "code",
   "execution_count": null,
   "id": "bronze-annotation",
   "metadata": {},
   "outputs": [],
   "source": [
    "value(dmd_cst[2])"
   ]
  },
  {
   "cell_type": "code",
   "execution_count": 40,
   "id": "static-software",
   "metadata": {},
   "outputs": [
    {
     "data": {
      "text/plain": [
       "6-element Vector{Any}:\n",
       " #undef\n",
       " #undef\n",
       " #undef\n",
       " #undef\n",
       " #undef\n",
       " #undef"
      ]
     },
     "execution_count": 40,
     "metadata": {},
     "output_type": "execute_result"
    }
   ],
   "source": [
    "dmd_testar = Array{Any,1}(UndefInitializer(), 6)"
   ]
  },
  {
   "cell_type": "code",
   "execution_count": 41,
   "id": "directed-reservation",
   "metadata": {},
   "outputs": [
    {
     "data": {
      "text/plain": [
       "6-element Vector{Any}:\n",
       " #undef\n",
       "   2\n",
       " #undef\n",
       " #undef\n",
       " #undef\n",
       " #undef"
      ]
     },
     "execution_count": 41,
     "metadata": {},
     "output_type": "execute_result"
    }
   ],
   "source": [
    "dmd_testar[2] = 2\n",
    "dmd_testar"
   ]
  },
  {
   "cell_type": "code",
   "execution_count": 42,
   "id": "distributed-wyoming",
   "metadata": {},
   "outputs": [],
   "source": [
    "Pkg.add(\"Cbc\")"
   ]
  },
  {
   "cell_type": "code",
   "execution_count": 43,
   "id": "structured-prefix",
   "metadata": {},
   "outputs": [],
   "source": [
    "using Cbc"
   ]
  },
  {
   "cell_type": "code",
   "execution_count": 47,
   "id": "introductory-junction",
   "metadata": {},
   "outputs": [],
   "source": [
    "mdl3 = Model(Cbc.Optimizer)\n",
    "\n",
    "dmd2 = [400 , 320, 420, 500]\n",
    "\n",
    "@variable(mdl3, 200>=x1[1:4]>=70)\n",
    "@variable(mdl3, 250>=x2[1:4]>=80)\n",
    "@variable(mdl3, 150>=x3[1:4]>=40)\n",
    "\n",
    "#y1[1]*x1[1] + x2[1] + x3[1]\n",
    "\n",
    "@variable(mdl3, y1[1:4], Bin)\n",
    "@variable(mdl3, y2[1:4], Bin)\n",
    "@variable(mdl3, y3[1:4], Bin)\n",
    "\n",
    "@objective(mdl3, Min, sum(\n",
    "        (2000+150*x1[i])+\n",
    "        (2500+100*x2[i])+\n",
    "        (170*80+170*x3[i])\n",
    "        for i in 1:4))\n",
    "\n",
    "@expression(mdl3, expr1, y1[1]*x1[1])\n",
    "dmd_cst2 = [] #Array{Any,1}(UndefInitializer(), 6)\n",
    "for i in 1:4\n",
    "    push!(dmd_cst2, @constraint(mdl3, x1[i]+x2[i]+x3[i]==dmd2[i]))\n",
    "end\n"
   ]
  },
  {
   "cell_type": "code",
   "execution_count": 48,
   "id": "sealed-productivity",
   "metadata": {},
   "outputs": [
    {
     "name": "stdout",
     "output_type": "stream",
     "text": [
      "Welcome to the CBC MILP Solver \n",
      "Version: 2.10.5 \n",
      "Build Date: Jan  1 1970 \n",
      "\n",
      "command line - Cbc_C_Interface -solve -quit (default strategy 1)\n",
      "Continuous objective value is 201400 - 0.00 seconds\n",
      "Cgl0004I processed model has 4 rows, 12 columns (0 integer (0 of which binary)) and 12 elements\n",
      "Cbc3007W No integer variables - nothing to do\n",
      "Cuts at root node changed objective from 201400 to -1.79769e+308\n",
      "Probing was tried 0 times and created 0 cuts of which 0 were active after adding rounds of cuts (0.000 seconds)\n",
      "Gomory was tried 0 times and created 0 cuts of which 0 were active after adding rounds of cuts (0.000 seconds)\n",
      "Knapsack was tried 0 times and created 0 cuts of which 0 were active after adding rounds of cuts (0.000 seconds)\n",
      "Clique was tried 0 times and created 0 cuts of which 0 were active after adding rounds of cuts (0.000 seconds)\n",
      "MixedIntegerRounding2 was tried 0 times and created 0 cuts of which 0 were active after adding rounds of cuts (0.000 seconds)\n",
      "FlowCover was tried 0 times and created 0 cuts of which 0 were active after adding rounds of cuts (0.000 seconds)\n",
      "TwoMirCuts was tried 0 times and created 0 cuts of which 0 were active after adding rounds of cuts (0.000 seconds)\n",
      "ZeroHalf was tried 0 times and created 0 cuts of which 0 were active after adding rounds of cuts (0.000 seconds)\n",
      "\n",
      "Result - Optimal solution found\n",
      "\n",
      "Objective value:                201400.00000000\n",
      "Enumerated nodes:               0\n",
      "Total iterations:               0\n",
      "Time (CPU seconds):             0.01\n",
      "Time (Wallclock seconds):       0.00\n",
      "\n",
      "Total time (CPU seconds):       0.01   (Wallclock seconds):       0.00\n",
      "\n"
     ]
    }
   ],
   "source": [
    "optimize!(mdl3)"
   ]
  },
  {
   "cell_type": "code",
   "execution_count": null,
   "id": "atmospheric-ethnic",
   "metadata": {},
   "outputs": [],
   "source": []
  },
  {
   "cell_type": "code",
   "execution_count": null,
   "id": "surprised-olympus",
   "metadata": {},
   "outputs": [],
   "source": []
  },
  {
   "cell_type": "code",
   "execution_count": null,
   "id": "wound-vietnam",
   "metadata": {},
   "outputs": [],
   "source": []
  },
  {
   "cell_type": "code",
   "execution_count": null,
   "id": "legal-child",
   "metadata": {},
   "outputs": [],
   "source": []
  }
 ],
 "metadata": {
  "kernelspec": {
   "display_name": "Julia 1.6.1",
   "language": "julia",
   "name": "julia-1.6"
  },
  "language_info": {
   "file_extension": ".jl",
   "mimetype": "application/julia",
   "name": "julia",
   "version": "1.6.1"
  }
 },
 "nbformat": 4,
 "nbformat_minor": 5
}
